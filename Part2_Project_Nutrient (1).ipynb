{
  "nbformat": 4,
  "nbformat_minor": 0,
  "metadata": {
    "colab": {
      "provenance": [],
      "machine_shape": "hm"
    },
    "kernelspec": {
      "name": "python3",
      "display_name": "Python 3"
    },
    "language_info": {
      "name": "python"
    },
    "widgets": {
      "application/vnd.jupyter.widget-state+json": {
        "20705d9eb1f54742b4e9b4e44b57bbb1": {
          "model_module": "@jupyter-widgets/controls",
          "model_name": "HBoxModel",
          "model_module_version": "1.5.0",
          "state": {
            "_dom_classes": [],
            "_model_module": "@jupyter-widgets/controls",
            "_model_module_version": "1.5.0",
            "_model_name": "HBoxModel",
            "_view_count": null,
            "_view_module": "@jupyter-widgets/controls",
            "_view_module_version": "1.5.0",
            "_view_name": "HBoxView",
            "box_style": "",
            "children": [
              "IPY_MODEL_d545b36e444a4e7eb18c44bdbab235fc",
              "IPY_MODEL_92a099983eb7481eb76b9e12685f1a7c",
              "IPY_MODEL_41251e41d6114cbc87cdce5aa52c6937"
            ],
            "layout": "IPY_MODEL_9339aafd79d3451783894ba017537372"
          }
        },
        "d545b36e444a4e7eb18c44bdbab235fc": {
          "model_module": "@jupyter-widgets/controls",
          "model_name": "HTMLModel",
          "model_module_version": "1.5.0",
          "state": {
            "_dom_classes": [],
            "_model_module": "@jupyter-widgets/controls",
            "_model_module_version": "1.5.0",
            "_model_name": "HTMLModel",
            "_view_count": null,
            "_view_module": "@jupyter-widgets/controls",
            "_view_module_version": "1.5.0",
            "_view_name": "HTMLView",
            "description": "",
            "description_tooltip": null,
            "layout": "IPY_MODEL_a3c214fe94894bf0b5330de77eeeaa1b",
            "placeholder": "​",
            "style": "IPY_MODEL_8a31ccc6b7fd4644ae4d9c31eff1ad97",
            "value": "Loading checkpoint shards: 100%"
          }
        },
        "92a099983eb7481eb76b9e12685f1a7c": {
          "model_module": "@jupyter-widgets/controls",
          "model_name": "FloatProgressModel",
          "model_module_version": "1.5.0",
          "state": {
            "_dom_classes": [],
            "_model_module": "@jupyter-widgets/controls",
            "_model_module_version": "1.5.0",
            "_model_name": "FloatProgressModel",
            "_view_count": null,
            "_view_module": "@jupyter-widgets/controls",
            "_view_module_version": "1.5.0",
            "_view_name": "ProgressView",
            "bar_style": "success",
            "description": "",
            "description_tooltip": null,
            "layout": "IPY_MODEL_a73c6e865d5b46d389ee20af23bca89d",
            "max": 4,
            "min": 0,
            "orientation": "horizontal",
            "style": "IPY_MODEL_ae3ae74ae1814300b3f0a1f6f0c81154",
            "value": 4
          }
        },
        "41251e41d6114cbc87cdce5aa52c6937": {
          "model_module": "@jupyter-widgets/controls",
          "model_name": "HTMLModel",
          "model_module_version": "1.5.0",
          "state": {
            "_dom_classes": [],
            "_model_module": "@jupyter-widgets/controls",
            "_model_module_version": "1.5.0",
            "_model_name": "HTMLModel",
            "_view_count": null,
            "_view_module": "@jupyter-widgets/controls",
            "_view_module_version": "1.5.0",
            "_view_name": "HTMLView",
            "description": "",
            "description_tooltip": null,
            "layout": "IPY_MODEL_97d06631060d4ed19b2202500412d3ae",
            "placeholder": "​",
            "style": "IPY_MODEL_2125fe87201245c7a6e893374795b9f6",
            "value": " 4/4 [01:41&lt;00:00, 21.87s/it]"
          }
        },
        "9339aafd79d3451783894ba017537372": {
          "model_module": "@jupyter-widgets/base",
          "model_name": "LayoutModel",
          "model_module_version": "1.2.0",
          "state": {
            "_model_module": "@jupyter-widgets/base",
            "_model_module_version": "1.2.0",
            "_model_name": "LayoutModel",
            "_view_count": null,
            "_view_module": "@jupyter-widgets/base",
            "_view_module_version": "1.2.0",
            "_view_name": "LayoutView",
            "align_content": null,
            "align_items": null,
            "align_self": null,
            "border": null,
            "bottom": null,
            "display": null,
            "flex": null,
            "flex_flow": null,
            "grid_area": null,
            "grid_auto_columns": null,
            "grid_auto_flow": null,
            "grid_auto_rows": null,
            "grid_column": null,
            "grid_gap": null,
            "grid_row": null,
            "grid_template_areas": null,
            "grid_template_columns": null,
            "grid_template_rows": null,
            "height": null,
            "justify_content": null,
            "justify_items": null,
            "left": null,
            "margin": null,
            "max_height": null,
            "max_width": null,
            "min_height": null,
            "min_width": null,
            "object_fit": null,
            "object_position": null,
            "order": null,
            "overflow": null,
            "overflow_x": null,
            "overflow_y": null,
            "padding": null,
            "right": null,
            "top": null,
            "visibility": null,
            "width": null
          }
        },
        "a3c214fe94894bf0b5330de77eeeaa1b": {
          "model_module": "@jupyter-widgets/base",
          "model_name": "LayoutModel",
          "model_module_version": "1.2.0",
          "state": {
            "_model_module": "@jupyter-widgets/base",
            "_model_module_version": "1.2.0",
            "_model_name": "LayoutModel",
            "_view_count": null,
            "_view_module": "@jupyter-widgets/base",
            "_view_module_version": "1.2.0",
            "_view_name": "LayoutView",
            "align_content": null,
            "align_items": null,
            "align_self": null,
            "border": null,
            "bottom": null,
            "display": null,
            "flex": null,
            "flex_flow": null,
            "grid_area": null,
            "grid_auto_columns": null,
            "grid_auto_flow": null,
            "grid_auto_rows": null,
            "grid_column": null,
            "grid_gap": null,
            "grid_row": null,
            "grid_template_areas": null,
            "grid_template_columns": null,
            "grid_template_rows": null,
            "height": null,
            "justify_content": null,
            "justify_items": null,
            "left": null,
            "margin": null,
            "max_height": null,
            "max_width": null,
            "min_height": null,
            "min_width": null,
            "object_fit": null,
            "object_position": null,
            "order": null,
            "overflow": null,
            "overflow_x": null,
            "overflow_y": null,
            "padding": null,
            "right": null,
            "top": null,
            "visibility": null,
            "width": null
          }
        },
        "8a31ccc6b7fd4644ae4d9c31eff1ad97": {
          "model_module": "@jupyter-widgets/controls",
          "model_name": "DescriptionStyleModel",
          "model_module_version": "1.5.0",
          "state": {
            "_model_module": "@jupyter-widgets/controls",
            "_model_module_version": "1.5.0",
            "_model_name": "DescriptionStyleModel",
            "_view_count": null,
            "_view_module": "@jupyter-widgets/base",
            "_view_module_version": "1.2.0",
            "_view_name": "StyleView",
            "description_width": ""
          }
        },
        "a73c6e865d5b46d389ee20af23bca89d": {
          "model_module": "@jupyter-widgets/base",
          "model_name": "LayoutModel",
          "model_module_version": "1.2.0",
          "state": {
            "_model_module": "@jupyter-widgets/base",
            "_model_module_version": "1.2.0",
            "_model_name": "LayoutModel",
            "_view_count": null,
            "_view_module": "@jupyter-widgets/base",
            "_view_module_version": "1.2.0",
            "_view_name": "LayoutView",
            "align_content": null,
            "align_items": null,
            "align_self": null,
            "border": null,
            "bottom": null,
            "display": null,
            "flex": null,
            "flex_flow": null,
            "grid_area": null,
            "grid_auto_columns": null,
            "grid_auto_flow": null,
            "grid_auto_rows": null,
            "grid_column": null,
            "grid_gap": null,
            "grid_row": null,
            "grid_template_areas": null,
            "grid_template_columns": null,
            "grid_template_rows": null,
            "height": null,
            "justify_content": null,
            "justify_items": null,
            "left": null,
            "margin": null,
            "max_height": null,
            "max_width": null,
            "min_height": null,
            "min_width": null,
            "object_fit": null,
            "object_position": null,
            "order": null,
            "overflow": null,
            "overflow_x": null,
            "overflow_y": null,
            "padding": null,
            "right": null,
            "top": null,
            "visibility": null,
            "width": null
          }
        },
        "ae3ae74ae1814300b3f0a1f6f0c81154": {
          "model_module": "@jupyter-widgets/controls",
          "model_name": "ProgressStyleModel",
          "model_module_version": "1.5.0",
          "state": {
            "_model_module": "@jupyter-widgets/controls",
            "_model_module_version": "1.5.0",
            "_model_name": "ProgressStyleModel",
            "_view_count": null,
            "_view_module": "@jupyter-widgets/base",
            "_view_module_version": "1.2.0",
            "_view_name": "StyleView",
            "bar_color": null,
            "description_width": ""
          }
        },
        "97d06631060d4ed19b2202500412d3ae": {
          "model_module": "@jupyter-widgets/base",
          "model_name": "LayoutModel",
          "model_module_version": "1.2.0",
          "state": {
            "_model_module": "@jupyter-widgets/base",
            "_model_module_version": "1.2.0",
            "_model_name": "LayoutModel",
            "_view_count": null,
            "_view_module": "@jupyter-widgets/base",
            "_view_module_version": "1.2.0",
            "_view_name": "LayoutView",
            "align_content": null,
            "align_items": null,
            "align_self": null,
            "border": null,
            "bottom": null,
            "display": null,
            "flex": null,
            "flex_flow": null,
            "grid_area": null,
            "grid_auto_columns": null,
            "grid_auto_flow": null,
            "grid_auto_rows": null,
            "grid_column": null,
            "grid_gap": null,
            "grid_row": null,
            "grid_template_areas": null,
            "grid_template_columns": null,
            "grid_template_rows": null,
            "height": null,
            "justify_content": null,
            "justify_items": null,
            "left": null,
            "margin": null,
            "max_height": null,
            "max_width": null,
            "min_height": null,
            "min_width": null,
            "object_fit": null,
            "object_position": null,
            "order": null,
            "overflow": null,
            "overflow_x": null,
            "overflow_y": null,
            "padding": null,
            "right": null,
            "top": null,
            "visibility": null,
            "width": null
          }
        },
        "2125fe87201245c7a6e893374795b9f6": {
          "model_module": "@jupyter-widgets/controls",
          "model_name": "DescriptionStyleModel",
          "model_module_version": "1.5.0",
          "state": {
            "_model_module": "@jupyter-widgets/controls",
            "_model_module_version": "1.5.0",
            "_model_name": "DescriptionStyleModel",
            "_view_count": null,
            "_view_module": "@jupyter-widgets/base",
            "_view_module_version": "1.2.0",
            "_view_name": "StyleView",
            "description_width": ""
          }
        }
      }
    }
  },
  "cells": [
    {
      "cell_type": "code",
      "source": [
        "!pip install -q rapidfuzz faiss-cpu streamlit\n"
      ],
      "metadata": {
        "id": "XdeXLme1ajQ1"
      },
      "execution_count": null,
      "outputs": []
    },
    {
      "cell_type": "code",
      "execution_count": null,
      "metadata": {
        "id": "rYNQQKdnadiV"
      },
      "outputs": [],
      "source": [
        "import pandas as pd\n",
        "import openai\n",
        "import numpy as np\n",
        "import warnings\n",
        "import ast\n",
        "import streamlit as st\n",
        "warnings.filterwarnings('ignore')\n",
        "\n",
        "from transformers import AutoModelForCausalLM, AutoTokenizer, pipeline\n",
        "from transformers import AutoModelForSeq2SeqLM\n",
        "import torch\n",
        "from sentence_transformers import SentenceTransformer, util\n",
        "import faiss\n",
        "from rapidfuzz import process, fuzz\n",
        "\n"
      ]
    },
    {
      "cell_type": "markdown",
      "source": [
        "new stuff"
      ],
      "metadata": {
        "id": "Vp9MtbgYHnnN"
      }
    },
    {
      "cell_type": "code",
      "source": [
        "usda = pd.read_csv('USDA.csv')\n",
        "usda['clean_description'] = usda['Description'].str.lower().str.strip()\n",
        "\n",
        "intake = pd.read_csv('intake.csv', header = [0,1])\n",
        "# remove commas\n",
        "def remove_commas(x):\n",
        "    if isinstance(x, str):\n",
        "        return x.replace(',', '')\n",
        "    else:\n",
        "        return x\n",
        "intake.iloc[0:, 2:] = intake.iloc[0:, 2:].applymap(remove_commas)\n",
        "\n",
        "\n",
        "recipes = pd.read_csv('world_recipes.csv')\n",
        "recipes.head()"
      ],
      "metadata": {
        "id": "5w_B5Why-mwB",
        "colab": {
          "base_uri": "https://localhost:8080/",
          "height": 206
        },
        "outputId": "f88d0f08-e98d-4a01-fc45-50ff45575753"
      },
      "execution_count": null,
      "outputs": [
        {
          "output_type": "execute_result",
          "data": {
            "text/plain": [
              "                     recipe                                        ingredients\n",
              "0   Spicy Kimchi Fried Rice  ['Cooked rice', 'Kimchi', 'Gochujang', 'Soy sa...\n",
              "1  Classic Margherita Pizza  ['Pizza dough', 'Tomato sauce', 'Fresh mozzare...\n",
              "2    Coconut Chickpea Curry  ['Chickpeas', 'Coconut milk', 'Onion', 'Ginger...\n",
              "3      Pad See Ew with Tofu  ['Wide rice noodles', 'Tofu', 'Chinese broccol...\n",
              "4          Beef Bourguignon  ['Beef chuck', 'Red wine', 'Bacon', 'Onion', '..."
            ],
            "text/html": [
              "\n",
              "  <div id=\"df-641f1436-0951-4108-ae48-c7f55487354c\" class=\"colab-df-container\">\n",
              "    <div>\n",
              "<style scoped>\n",
              "    .dataframe tbody tr th:only-of-type {\n",
              "        vertical-align: middle;\n",
              "    }\n",
              "\n",
              "    .dataframe tbody tr th {\n",
              "        vertical-align: top;\n",
              "    }\n",
              "\n",
              "    .dataframe thead th {\n",
              "        text-align: right;\n",
              "    }\n",
              "</style>\n",
              "<table border=\"1\" class=\"dataframe\">\n",
              "  <thead>\n",
              "    <tr style=\"text-align: right;\">\n",
              "      <th></th>\n",
              "      <th>recipe</th>\n",
              "      <th>ingredients</th>\n",
              "    </tr>\n",
              "  </thead>\n",
              "  <tbody>\n",
              "    <tr>\n",
              "      <th>0</th>\n",
              "      <td>Spicy Kimchi Fried Rice</td>\n",
              "      <td>['Cooked rice', 'Kimchi', 'Gochujang', 'Soy sa...</td>\n",
              "    </tr>\n",
              "    <tr>\n",
              "      <th>1</th>\n",
              "      <td>Classic Margherita Pizza</td>\n",
              "      <td>['Pizza dough', 'Tomato sauce', 'Fresh mozzare...</td>\n",
              "    </tr>\n",
              "    <tr>\n",
              "      <th>2</th>\n",
              "      <td>Coconut Chickpea Curry</td>\n",
              "      <td>['Chickpeas', 'Coconut milk', 'Onion', 'Ginger...</td>\n",
              "    </tr>\n",
              "    <tr>\n",
              "      <th>3</th>\n",
              "      <td>Pad See Ew with Tofu</td>\n",
              "      <td>['Wide rice noodles', 'Tofu', 'Chinese broccol...</td>\n",
              "    </tr>\n",
              "    <tr>\n",
              "      <th>4</th>\n",
              "      <td>Beef Bourguignon</td>\n",
              "      <td>['Beef chuck', 'Red wine', 'Bacon', 'Onion', '...</td>\n",
              "    </tr>\n",
              "  </tbody>\n",
              "</table>\n",
              "</div>\n",
              "    <div class=\"colab-df-buttons\">\n",
              "\n",
              "  <div class=\"colab-df-container\">\n",
              "    <button class=\"colab-df-convert\" onclick=\"convertToInteractive('df-641f1436-0951-4108-ae48-c7f55487354c')\"\n",
              "            title=\"Convert this dataframe to an interactive table.\"\n",
              "            style=\"display:none;\">\n",
              "\n",
              "  <svg xmlns=\"http://www.w3.org/2000/svg\" height=\"24px\" viewBox=\"0 -960 960 960\">\n",
              "    <path d=\"M120-120v-720h720v720H120Zm60-500h600v-160H180v160Zm220 220h160v-160H400v160Zm0 220h160v-160H400v160ZM180-400h160v-160H180v160Zm440 0h160v-160H620v160ZM180-180h160v-160H180v160Zm440 0h160v-160H620v160Z\"/>\n",
              "  </svg>\n",
              "    </button>\n",
              "\n",
              "  <style>\n",
              "    .colab-df-container {\n",
              "      display:flex;\n",
              "      gap: 12px;\n",
              "    }\n",
              "\n",
              "    .colab-df-convert {\n",
              "      background-color: #E8F0FE;\n",
              "      border: none;\n",
              "      border-radius: 50%;\n",
              "      cursor: pointer;\n",
              "      display: none;\n",
              "      fill: #1967D2;\n",
              "      height: 32px;\n",
              "      padding: 0 0 0 0;\n",
              "      width: 32px;\n",
              "    }\n",
              "\n",
              "    .colab-df-convert:hover {\n",
              "      background-color: #E2EBFA;\n",
              "      box-shadow: 0px 1px 2px rgba(60, 64, 67, 0.3), 0px 1px 3px 1px rgba(60, 64, 67, 0.15);\n",
              "      fill: #174EA6;\n",
              "    }\n",
              "\n",
              "    .colab-df-buttons div {\n",
              "      margin-bottom: 4px;\n",
              "    }\n",
              "\n",
              "    [theme=dark] .colab-df-convert {\n",
              "      background-color: #3B4455;\n",
              "      fill: #D2E3FC;\n",
              "    }\n",
              "\n",
              "    [theme=dark] .colab-df-convert:hover {\n",
              "      background-color: #434B5C;\n",
              "      box-shadow: 0px 1px 3px 1px rgba(0, 0, 0, 0.15);\n",
              "      filter: drop-shadow(0px 1px 2px rgba(0, 0, 0, 0.3));\n",
              "      fill: #FFFFFF;\n",
              "    }\n",
              "  </style>\n",
              "\n",
              "    <script>\n",
              "      const buttonEl =\n",
              "        document.querySelector('#df-641f1436-0951-4108-ae48-c7f55487354c button.colab-df-convert');\n",
              "      buttonEl.style.display =\n",
              "        google.colab.kernel.accessAllowed ? 'block' : 'none';\n",
              "\n",
              "      async function convertToInteractive(key) {\n",
              "        const element = document.querySelector('#df-641f1436-0951-4108-ae48-c7f55487354c');\n",
              "        const dataTable =\n",
              "          await google.colab.kernel.invokeFunction('convertToInteractive',\n",
              "                                                    [key], {});\n",
              "        if (!dataTable) return;\n",
              "\n",
              "        const docLinkHtml = 'Like what you see? Visit the ' +\n",
              "          '<a target=\"_blank\" href=https://colab.research.google.com/notebooks/data_table.ipynb>data table notebook</a>'\n",
              "          + ' to learn more about interactive tables.';\n",
              "        element.innerHTML = '';\n",
              "        dataTable['output_type'] = 'display_data';\n",
              "        await google.colab.output.renderOutput(dataTable, element);\n",
              "        const docLink = document.createElement('div');\n",
              "        docLink.innerHTML = docLinkHtml;\n",
              "        element.appendChild(docLink);\n",
              "      }\n",
              "    </script>\n",
              "  </div>\n",
              "\n",
              "\n",
              "    <div id=\"df-0d3ae57c-6762-4f9f-b972-6273c9646d81\">\n",
              "      <button class=\"colab-df-quickchart\" onclick=\"quickchart('df-0d3ae57c-6762-4f9f-b972-6273c9646d81')\"\n",
              "                title=\"Suggest charts\"\n",
              "                style=\"display:none;\">\n",
              "\n",
              "<svg xmlns=\"http://www.w3.org/2000/svg\" height=\"24px\"viewBox=\"0 0 24 24\"\n",
              "     width=\"24px\">\n",
              "    <g>\n",
              "        <path d=\"M19 3H5c-1.1 0-2 .9-2 2v14c0 1.1.9 2 2 2h14c1.1 0 2-.9 2-2V5c0-1.1-.9-2-2-2zM9 17H7v-7h2v7zm4 0h-2V7h2v10zm4 0h-2v-4h2v4z\"/>\n",
              "    </g>\n",
              "</svg>\n",
              "      </button>\n",
              "\n",
              "<style>\n",
              "  .colab-df-quickchart {\n",
              "      --bg-color: #E8F0FE;\n",
              "      --fill-color: #1967D2;\n",
              "      --hover-bg-color: #E2EBFA;\n",
              "      --hover-fill-color: #174EA6;\n",
              "      --disabled-fill-color: #AAA;\n",
              "      --disabled-bg-color: #DDD;\n",
              "  }\n",
              "\n",
              "  [theme=dark] .colab-df-quickchart {\n",
              "      --bg-color: #3B4455;\n",
              "      --fill-color: #D2E3FC;\n",
              "      --hover-bg-color: #434B5C;\n",
              "      --hover-fill-color: #FFFFFF;\n",
              "      --disabled-bg-color: #3B4455;\n",
              "      --disabled-fill-color: #666;\n",
              "  }\n",
              "\n",
              "  .colab-df-quickchart {\n",
              "    background-color: var(--bg-color);\n",
              "    border: none;\n",
              "    border-radius: 50%;\n",
              "    cursor: pointer;\n",
              "    display: none;\n",
              "    fill: var(--fill-color);\n",
              "    height: 32px;\n",
              "    padding: 0;\n",
              "    width: 32px;\n",
              "  }\n",
              "\n",
              "  .colab-df-quickchart:hover {\n",
              "    background-color: var(--hover-bg-color);\n",
              "    box-shadow: 0 1px 2px rgba(60, 64, 67, 0.3), 0 1px 3px 1px rgba(60, 64, 67, 0.15);\n",
              "    fill: var(--button-hover-fill-color);\n",
              "  }\n",
              "\n",
              "  .colab-df-quickchart-complete:disabled,\n",
              "  .colab-df-quickchart-complete:disabled:hover {\n",
              "    background-color: var(--disabled-bg-color);\n",
              "    fill: var(--disabled-fill-color);\n",
              "    box-shadow: none;\n",
              "  }\n",
              "\n",
              "  .colab-df-spinner {\n",
              "    border: 2px solid var(--fill-color);\n",
              "    border-color: transparent;\n",
              "    border-bottom-color: var(--fill-color);\n",
              "    animation:\n",
              "      spin 1s steps(1) infinite;\n",
              "  }\n",
              "\n",
              "  @keyframes spin {\n",
              "    0% {\n",
              "      border-color: transparent;\n",
              "      border-bottom-color: var(--fill-color);\n",
              "      border-left-color: var(--fill-color);\n",
              "    }\n",
              "    20% {\n",
              "      border-color: transparent;\n",
              "      border-left-color: var(--fill-color);\n",
              "      border-top-color: var(--fill-color);\n",
              "    }\n",
              "    30% {\n",
              "      border-color: transparent;\n",
              "      border-left-color: var(--fill-color);\n",
              "      border-top-color: var(--fill-color);\n",
              "      border-right-color: var(--fill-color);\n",
              "    }\n",
              "    40% {\n",
              "      border-color: transparent;\n",
              "      border-right-color: var(--fill-color);\n",
              "      border-top-color: var(--fill-color);\n",
              "    }\n",
              "    60% {\n",
              "      border-color: transparent;\n",
              "      border-right-color: var(--fill-color);\n",
              "    }\n",
              "    80% {\n",
              "      border-color: transparent;\n",
              "      border-right-color: var(--fill-color);\n",
              "      border-bottom-color: var(--fill-color);\n",
              "    }\n",
              "    90% {\n",
              "      border-color: transparent;\n",
              "      border-bottom-color: var(--fill-color);\n",
              "    }\n",
              "  }\n",
              "</style>\n",
              "\n",
              "      <script>\n",
              "        async function quickchart(key) {\n",
              "          const quickchartButtonEl =\n",
              "            document.querySelector('#' + key + ' button');\n",
              "          quickchartButtonEl.disabled = true;  // To prevent multiple clicks.\n",
              "          quickchartButtonEl.classList.add('colab-df-spinner');\n",
              "          try {\n",
              "            const charts = await google.colab.kernel.invokeFunction(\n",
              "                'suggestCharts', [key], {});\n",
              "          } catch (error) {\n",
              "            console.error('Error during call to suggestCharts:', error);\n",
              "          }\n",
              "          quickchartButtonEl.classList.remove('colab-df-spinner');\n",
              "          quickchartButtonEl.classList.add('colab-df-quickchart-complete');\n",
              "        }\n",
              "        (() => {\n",
              "          let quickchartButtonEl =\n",
              "            document.querySelector('#df-0d3ae57c-6762-4f9f-b972-6273c9646d81 button');\n",
              "          quickchartButtonEl.style.display =\n",
              "            google.colab.kernel.accessAllowed ? 'block' : 'none';\n",
              "        })();\n",
              "      </script>\n",
              "    </div>\n",
              "\n",
              "    </div>\n",
              "  </div>\n"
            ],
            "application/vnd.google.colaboratory.intrinsic+json": {
              "type": "dataframe",
              "variable_name": "recipes",
              "summary": "{\n  \"name\": \"recipes\",\n  \"rows\": 161,\n  \"fields\": [\n    {\n      \"column\": \"recipe\",\n      \"properties\": {\n        \"dtype\": \"string\",\n        \"num_unique_values\": 161,\n        \"samples\": [\n          \"Japanese Sushi Rolls (Various Types)\",\n          \"Moroccan Mint Tea\",\n          \"Ethiopian SpicedButter Medley\"\n        ],\n        \"semantic_type\": \"\",\n        \"description\": \"\"\n      }\n    },\n    {\n      \"column\": \"ingredients\",\n      \"properties\": {\n        \"dtype\": \"string\",\n        \"num_unique_values\": 161,\n        \"samples\": [\n          \"['Sushi rice', 'Nori seaweed', 'Various fillings (fish, vegetables, avocado, etc.)', 'Soy sauce', 'Wasabi', 'Pickled ginger']\",\n          \"['Green tea', 'Fresh mint leaves', 'Sugar', 'Hot water']\",\n          \"['lentils', 'spiced butter', 'berbere', 'injera', 'collard greens']\"\n        ],\n        \"semantic_type\": \"\",\n        \"description\": \"\"\n      }\n    }\n  ]\n}"
            }
          },
          "metadata": {},
          "execution_count": 40
        }
      ]
    },
    {
      "cell_type": "code",
      "source": [
        "# mapping between intake and usda datasets\n",
        "\n",
        "match_dict = {\n",
        "    \"TotalFat\": \"Fat\",\n",
        "    \"VitaminC\": \"Vitamin C\",\n",
        "    \"VitaminE\": \"Vitamin E\",\n",
        "    \"VitaminD\": \"Vitamin D\"\n",
        "}\n",
        "\n",
        "usda.rename(columns = match_dict, inplace = True)\n",
        "\n",
        "# clean the intake df 'Life Stage' column\n",
        "intake[('Life Stage', 'units')] = intake[('Life Stage', 'units')].apply( lambda s: s.replace('\\u2003', ' ').replace('\\xa0', ' ').strip())\n",
        "\n"
      ],
      "metadata": {
        "id": "ep1UWEWcmCFp"
      },
      "execution_count": null,
      "outputs": []
    },
    {
      "cell_type": "code",
      "source": [
        "from sentence_transformers import SentenceTransformer\n",
        "\n",
        "embedder = SentenceTransformer('paraphrase-MiniLM-L3-v2')\n",
        "\n",
        "# create embeddings for recipes\n",
        "recipe_names = recipes['recipe'].astype(str).tolist()\n",
        "embeddings = embedder.encode(recipe_names, convert_to_tensor=True)\n",
        "\n",
        "# normalize\n",
        "embeddings = embeddings / np.linalg.norm(embeddings, axis=1, keepdims=True)\n",
        "\n",
        "# normalize\n",
        "#embeddings = embeddings / torch.norm(embeddings, dim=1, keepdim=True)"
      ],
      "metadata": {
        "id": "B2ZB1oZ2H8gP"
      },
      "execution_count": null,
      "outputs": []
    },
    {
      "cell_type": "code",
      "source": [
        "# FAISS vector search\n",
        "\n",
        "dim = embeddings.shape[1]\n",
        "index = faiss.IndexFlatL2(dim)\n",
        "index.add(embeddings)\n"
      ],
      "metadata": {
        "id": "KVm5X8uvJiSI"
      },
      "execution_count": null,
      "outputs": []
    },
    {
      "cell_type": "code",
      "source": [
        "# #model_name = \"meta-llama/Meta-Llama-3-8B-Instruct\"\n",
        "# model_name = \"google/flan-t5-base\"\n",
        "\n",
        "# tokenizer = AutoTokenizer.from_pretrained(model_name)\n",
        "# #model = AutoModelForCausalLM.from_pretrained(model_name, device_map=\"auto\")\n",
        "# model = AutoModelForSeq2SeqLM.from_pretrained(model_name)\n",
        "\n",
        "# # create inference pipeline\n",
        "# flan = pipeline(\"text2text-generation\", model=model, tokenizer=tokenizer)"
      ],
      "metadata": {
        "colab": {
          "base_uri": "https://localhost:8080/"
        },
        "id": "b2zUUQ22BgcR",
        "outputId": "31af4e5b-a088-478b-bf9f-13f7965cbd43"
      },
      "execution_count": null,
      "outputs": [
        {
          "output_type": "stream",
          "name": "stderr",
          "text": [
            "Device set to use cpu\n"
          ]
        }
      ]
    },
    {
      "cell_type": "markdown",
      "source": [
        "prompt = (f\"The ingredient is '{ingredient}', \"\n",
        "            f\" get the best match from this list: {cand_names}. \"\n",
        "            \"Give one closest matching ingredient name only.\")"
      ],
      "metadata": {
        "id": "FI-5IDD4olry"
      }
    },
    {
      "cell_type": "code",
      "source": [
        "# this function gets the top 2 recipes using world recipes dataset\n",
        "def get_recipe(query, top_k = 2):\n",
        "\n",
        "  query_embedding = embedder.encode([query], convert_to_numpy=True)\n",
        "  query_embedding = query_embedding / np.linalg.norm(query_embedding, axis=1, keepdims=True)\n",
        "\n",
        "  dist, ind = index.search(query_embedding, top_k)\n",
        "  results = []\n",
        "  for idx, score in zip(ind[0], dist[0]):\n",
        "    row = recipes.iloc[idx]\n",
        "    results.append({'item': row['recipe'], 'ingredients': row['ingredients'], 'score': score})\n",
        "\n",
        "  return results\n",
        "\n",
        "# this function combines ingredients from chosen top recipes\n",
        "def combine_ingredients(results):\n",
        "  top_recipes = get_recipe(user_input)\n",
        "  comb_ingredients = set()\n",
        "  for r in top_recipes:\n",
        "    #ingredients = r['ingredients'].lower().split(';')\n",
        "    ingredients = ast.literal_eval(r['ingredients'].lower())\n",
        "    comb_ingredients.update([i.strip() for i in ingredients])\n",
        "\n",
        "  all_ingredients = list(comb_ingredients)\n",
        "\n",
        "  return all_ingredients"
      ],
      "metadata": {
        "id": "kjNRhWKtrssr"
      },
      "execution_count": null,
      "outputs": []
    },
    {
      "cell_type": "code",
      "source": [
        "# This function matches a single recipe ingredient with the best USDA entry match.\n",
        "\n",
        "def get_top_candidate(ingredient, top_k = 5, threshold = 70):\n",
        "\n",
        "  usda_list = usda['clean_description'].tolist()\n",
        "  candidates = process.extract(ingredient, usda_list, scorer = fuzz.partial_ratio, limit = top_k)\n",
        "  best_cand = max(candidates, key = lambda x: x[1])\n",
        "\n",
        "  if best_cand[1] >= threshold:\n",
        "    return best_cand[0]\n",
        "  else:\n",
        "    return None\n"
      ],
      "metadata": {
        "id": "itexE1JuPgS2"
      },
      "execution_count": null,
      "outputs": []
    },
    {
      "cell_type": "code",
      "source": [
        "# # If there is not a direct match for an ingredient, use LLM to generate new names for ingredient.\n",
        "# def llm_suggestion(ingredient, flan):\n",
        "\n",
        "#   usda_list = usda['clean_description'].tolist()\n",
        "\n",
        "#   # prompt = (f\"The given ingredient name is '{ingredient}.' \"\n",
        "#   # 'Provide exactly 3 different alternative synonyms for this ingredient.'\n",
        "#   # 'Do NOT repeat the original ingredient name.')\n",
        "\n",
        "#   prompt = (f\"What food is {ingredient}\")\n",
        "#   print(prompt)\n",
        "#   response = flan(prompt)[0]['generated_text'].strip()\n",
        "\n",
        "#   print(response)"
      ],
      "metadata": {
        "id": "_HMb34mP60n4"
      },
      "execution_count": null,
      "outputs": []
    },
    {
      "cell_type": "code",
      "source": [
        "# ho = get_top_candidate('pork')\n",
        "# ho"
      ],
      "metadata": {
        "colab": {
          "base_uri": "https://localhost:8080/",
          "height": 35
        },
        "id": "BCLgwSUGucOX",
        "outputId": "7ce4aefa-4ad0-494e-c310-24d10e250e24"
      },
      "execution_count": null,
      "outputs": [
        {
          "output_type": "execute_result",
          "data": {
            "text/plain": [
              "'soup,bean w/ pork,cnd,cond'"
            ],
            "application/vnd.google.colaboratory.intrinsic+json": {
              "type": "string"
            }
          },
          "metadata": {},
          "execution_count": 35
        }
      ]
    },
    {
      "cell_type": "code",
      "source": [
        "# # testing llm_suggestion prompt\n",
        "# ingredient = 'guanciale (or pancetta/bacon)'\n",
        "# hey = llm_suggestion(ingredient, flan)\n",
        "# hey"
      ],
      "metadata": {
        "colab": {
          "base_uri": "https://localhost:8080/"
        },
        "id": "B3PrhudhvPFc",
        "outputId": "40d90714-b2fb-4823-e869-bbe8cfd6797e"
      },
      "execution_count": null,
      "outputs": [
        {
          "output_type": "stream",
          "name": "stdout",
          "text": [
            "What food is guanciale (or pancetta/bacon)\n",
            "pork\n"
          ]
        }
      ]
    },
    {
      "cell_type": "code",
      "source": [
        "def calculate_nutrition(matched_df, intake, group, life_stage, nutrient_cols):\n",
        "  \"\"\"\n",
        "  Calculate percent of daily nutrient requirements which are met.\n",
        "  \"\"\"\n",
        "\n",
        "  # get relevant rows\n",
        "  row = intake[(intake[('Group', 'Unnamed: 0_level_1')] == group) & (intake[('Life Stage', 'units')] == life_stage)]\n",
        "\n",
        "  # if no relevant rows raise error\n",
        "  if row.empty:\n",
        "    raise ValueError(f\" No matching intake data\")\n",
        "  row = row.iloc[0]\n",
        "\n",
        "  full_nutrient_cols = [idx for idx in row.index if idx[0] in nutrient_cols]\n",
        "\n",
        "  # calculate total nutrients\n",
        "  total_nutrients = matched_df[nutrient_cols].sum()\n",
        "\n",
        "  req_values = row[full_nutrient_cols].replace(['ND', 'NDc', 'NaN', None], 0).astype(float)\n",
        "\n",
        "  total_nutrients.index = pd.MultiIndex.from_tuples([(nutrient, '') for nutrient in total_nutrients.index])\n",
        "  #print(total_nutrients)\n",
        "\n",
        "  totals = pd.Series({idx: total_nutrients.get((idx[0], ''), 0) for idx in full_nutrient_cols})\n",
        "\n",
        "  coverage = (totals / req_values) * 100\n",
        "  return totals, coverage"
      ],
      "metadata": {
        "id": "O1rJgcz0tvBX"
      },
      "execution_count": null,
      "outputs": []
    },
    {
      "cell_type": "code",
      "source": [
        "if __name__ == \"__main__\":\n",
        "\n",
        "  user_input = input(\"What food would you like to look at today? \").strip().lower()\n",
        "\n",
        "  ingredients = get_recipe(user_input)\n",
        "\n",
        "  all_ingredients = combine_ingredients(ingredients)\n",
        "  print(all_ingredients)\n",
        "\n",
        "  while True:\n",
        "    action = input(\"Would you like to add, remove, or no? (choose one)\").strip().lower()\n",
        "\n",
        "    if action == 'no':\n",
        "      break\n",
        "\n",
        "    elif action == 'add':\n",
        "      adding = input(\"Enter ingredient to add: \").strip().lower()\n",
        "      if adding and adding not in all_ingredients:\n",
        "        all_ingredients.append(adding)\n",
        "        print(all_ingredients)\n",
        "\n",
        "    elif action == 'remove':\n",
        "      rv = input(\"Enter ingredient to remove: \").strip().lower()\n",
        "      if rv in all_ingredients:\n",
        "        all_ingredients.remove(rv)\n",
        "        print(all_ingredients)\n",
        "\n",
        "  results = []\n",
        "  for i in all_ingredients:\n",
        "    ing = get_top_candidate(i)\n",
        "    if ing is not None:\n",
        "      row = usda[usda['clean_description'] == ing]\n",
        "      results.append(row)\n",
        "    else:\n",
        "      print(f\"No match for {i}.\")\n",
        "\n",
        "  if results:\n",
        "    matched_df = pd.concat(results, ignore_index=True)\n",
        "  else:\n",
        "    print('\\nNo Matches')\n",
        "\n",
        "  matched_cols =  [\"Protein\", \"Fat\", \"Carbohydrate\", \"Sodium\", \"Calcium\", \"Iron\", \"Potassium\", \"Vitamin C\", \"Vitamin E\", \"Vitamin D\"]\n",
        "\n",
        "  group_options = intake[('Group', 'Unnamed: 0_level_1')].unique()\n",
        "\n",
        "  group = input(f\"Which group are you part of? Select the one which best fits you. : {list(group_options)} \").strip().title()\n",
        "  group_name = (group, 'Unnamed: 0_level_1')\n",
        "  life_stage_options = intake.loc[intake[('Group', 'Unnamed: 0_level_1')] == group, ('Life Stage', 'units')].unique()\n",
        "\n",
        "  cleaned_life_stage = [s.replace('\\u2003', ' ').replace('\\xa0', ' ').strip() for s in life_stage_options]\n",
        "  life_stage = input(f\"Which stage of life are you part of? Select one: {list(cleaned_life_stage)}\").strip()\n",
        "  life_stage = life_stage.replace('-', '–')\n",
        "\n",
        "  nutrient_input = input(\"Would you like to calculate nutrition? (yes or no) \").strip().lower()\n",
        "\n",
        "  if nutrient_input == 'yes':\n",
        "\n",
        "    options_str = \", \".join(matched_cols)\n",
        "    answer = input(f\"Which nutrients would you like to consider? If you would like all of them, please answer 'all.' \\nHere are your options: {matched_cols}\\n\" ).strip().lower()\n",
        "\n",
        "    if answer == 'all':\n",
        "      nutrient_info = matched_cols\n",
        "    else:\n",
        "      nutrient_info = [n.strip().title() for n in answer.split(',')]\n",
        "\n",
        "  else:\n",
        "    print('Great, have a great rest of your day!')\n",
        "    nutrient_info = None\n",
        "\n",
        "  if nutrient_info is not None:\n",
        "    totals, coverage = calculate_nutrition(matched_df, intake, group, life_stage, nutrient_info)\n",
        "    print(\"\\nPercentage of Daily Nutrient Requirements: \")\n",
        "    print(coverage)\n",
        "    print(\"\\nTotal Amounts in Food: \")\n",
        "    print(totals)\n",
        "\n",
        "\n"
      ],
      "metadata": {
        "colab": {
          "base_uri": "https://localhost:8080/"
        },
        "id": "ecDxfB-LLuFI",
        "outputId": "93505d77-f7e7-4b0e-fbf6-fd6e142c4a34"
      },
      "execution_count": null,
      "outputs": [
        {
          "output_type": "stream",
          "name": "stdout",
          "text": [
            "What food would you like to look at today? spaghetti\n",
            "['spaghetti', 'allspice', 'bay leaf', 'eggs', 'guanciale (or pancetta/bacon)', 'black pepper', 'pepper', 'tomato paste', 'pasta (penne or ziti)', 'salt', 'bechamel sauce (milk, butter, flour, nutmeg, cheese)', 'olive oil', 'ground beef or lamb', 'onion', 'red wine', 'pecorino romano cheese', 'cinnamon', 'garlic']\n",
            "Would you like to add, remove, or no? (choose one)add\n",
            "Enter ingredient to add: shrimp\n",
            "['spaghetti', 'allspice', 'bay leaf', 'eggs', 'guanciale (or pancetta/bacon)', 'black pepper', 'pepper', 'tomato paste', 'pasta (penne or ziti)', 'salt', 'bechamel sauce (milk, butter, flour, nutmeg, cheese)', 'olive oil', 'ground beef or lamb', 'onion', 'red wine', 'pecorino romano cheese', 'cinnamon', 'garlic', 'shrimp']\n",
            "Would you like to add, remove, or no? (choose one)no\n",
            "No match for guanciale (or pancetta/bacon).\n",
            "No match for pasta (penne or ziti).\n",
            "No match for bechamel sauce (milk, butter, flour, nutmeg, cheese).\n",
            "Which group are you part of? Select the one which best fits you. : ['Infants', 'Children', 'Males', 'Females', 'Pregnancy', 'Lactation'] lactation\n",
            "Which stage of life are you part of? Select one: ['14–18 y', '19–30 y', '31–50 y']31-50 y\n",
            "Would you like to calculate nutrition? (yes or no) yes\n",
            "Which nutrients would you like to consider? If you would like all of them, please answer 'all.' \n",
            "Here are your options: ['Protein', 'Fat', 'Carbohydrate', 'Sodium', 'Calcium', 'Iron', 'Potassium', 'Vitamin C', 'Vitamin E', 'Vitamin D']\n",
            "all\n",
            "\n",
            "Percentage of Daily Nutrient Requirements: \n",
            "Vitamin C     (mg/d)     134.500000\n",
            "Vitamin D     (μg/d)      20.666667\n",
            "Vitamin E     (mg/d)      60.105263\n",
            "Calcium       (mg/d)     455.700000\n",
            "Iron          (mg/d)    1117.777778\n",
            "Potassium     (mg/d)     283.750000\n",
            "Sodium        (mg/d)     356.333333\n",
            "Carbohydrate  (g/d)      258.376190\n",
            "Fat           (g/d)             inf\n",
            "Protein       (g/d)      161.943662\n",
            "dtype: float64\n",
            "\n",
            "Total Amounts in Food: \n",
            "Vitamin C     (mg/d)     161.40\n",
            "Vitamin D     (μg/d)       3.10\n",
            "Vitamin E     (mg/d)      11.42\n",
            "Calcium       (mg/d)    4557.00\n",
            "Iron          (mg/d)     100.60\n",
            "Potassium     (mg/d)    7945.00\n",
            "Sodium        (mg/d)    5345.00\n",
            "Carbohydrate  (g/d)      542.59\n",
            "Fat           (g/d)      188.36\n",
            "Protein       (g/d)      114.98\n",
            "dtype: float64\n"
          ]
        }
      ]
    },
    {
      "cell_type": "code",
      "source": [
        "# make coverage_df\n",
        "coverage_df = pd.DataFrame(coverage, columns=['Percent(%) Daily'])\n",
        "coverage_df = coverage_df.reset_index()\n",
        "coverage_df = coverage_df.rename(columns={'level_0': 'Nutrient', 'level_1': 'Unit'})\n",
        "\n",
        "# get info\n",
        "docs = []\n",
        "\n",
        "for _, row in coverage_df.iterrows():\n",
        "  text = f\"{row['Nutrient']} {row['Unit']}: {row['Percent(%) Daily']:.1f} % of daily needs.\"\n",
        "  docs.append(text)\n",
        "\n",
        "docs"
      ],
      "metadata": {
        "colab": {
          "base_uri": "https://localhost:8080/"
        },
        "id": "hRLnCd8hgZLS",
        "outputId": "50ec3bce-d78c-4ed7-e6b6-3e3245e867e1"
      },
      "execution_count": null,
      "outputs": [
        {
          "output_type": "execute_result",
          "data": {
            "text/plain": [
              "['Vitamin C (mg/d): 134.5 % of daily needs.',\n",
              " 'Vitamin D (μg/d): 20.7 % of daily needs.',\n",
              " 'Vitamin E (mg/d): 60.1 % of daily needs.',\n",
              " 'Calcium (mg/d): 455.7 % of daily needs.',\n",
              " 'Iron (mg/d): 1117.8 % of daily needs.',\n",
              " 'Potassium (mg/d): 283.8 % of daily needs.',\n",
              " 'Sodium (mg/d): 356.3 % of daily needs.',\n",
              " 'Carbohydrate (g/d): 258.4 % of daily needs.',\n",
              " 'Fat (g/d): inf % of daily needs.',\n",
              " 'Protein (g/d): 161.9 % of daily needs.']"
            ]
          },
          "metadata": {},
          "execution_count": 45
        }
      ]
    },
    {
      "cell_type": "code",
      "source": [
        "# build keyword retriever\n",
        "def retrieve(query, docs):\n",
        "  query = query.lower()\n",
        "  keywords = query.split()\n",
        "  results = [doc for doc in docs if any(kw in doc.lower() for kw in keywords)]\n",
        "  return results if results else [\"No relevant information found.\"]"
      ],
      "metadata": {
        "id": "apu4i4e_yxv0"
      },
      "execution_count": null,
      "outputs": []
    },
    {
      "cell_type": "code",
      "source": [
        "from transformers import AutoTokenizer, AutoModelForCausalLM\n",
        "from huggingface_hub import login\n",
        "\n",
        "# token\n",
        "login(token = \"YOUR_HUGGINGFACE_AUTH_TOKEN\")\n",
        "\n",
        "# initialize model\n",
        "model_id = \"meta-llama/Llama-3.1-8B-Instruct\"\n",
        "tokenizer = AutoTokenizer.from_pretrained(model_id)\n",
        "model = AutoModelForCausalLM.from_pretrained(\n",
        "    model_id,\n",
        "    torch_dtype=torch.float16,\n",
        "    device_map=\"auto\"\n",
        ")\n",
        "\n",
        "def generate_response(user_input, docs):\n",
        "\n",
        "  user_input = input(f\"What would you like to know? \\n\")\n",
        "  ret_info = retrieve(user_input, docs)\n",
        "  context = \"\\n\".join(ret_info)\n",
        "  prompt = f\"Here is some nutrition info: \\n{context}\\n\\nAnswer the question\\n{user_input} in a friendly way.\"\n",
        "\n",
        "  inputs = tokenizer(prompt, return_tensors=\"pt\").to(model.device)\n",
        "  outputs = model.generate(\n",
        "      **inputs,\n",
        "      max_new_tokens=150,\n",
        "      do_sample=True,\n",
        "      temperature=0.7,\n",
        "      top_p=0.9,\n",
        "      pad_token_id = tokenizer.eos_token_id\n",
        "  )\n",
        "  response = tokenizer.decode(outputs[0], skip_special_tokens=True)\n",
        "  return response\n"
      ],
      "metadata": {
        "colab": {
          "base_uri": "https://localhost:8080/",
          "height": 49,
          "referenced_widgets": [
            "20705d9eb1f54742b4e9b4e44b57bbb1",
            "d545b36e444a4e7eb18c44bdbab235fc",
            "92a099983eb7481eb76b9e12685f1a7c",
            "41251e41d6114cbc87cdce5aa52c6937",
            "9339aafd79d3451783894ba017537372",
            "a3c214fe94894bf0b5330de77eeeaa1b",
            "8a31ccc6b7fd4644ae4d9c31eff1ad97",
            "a73c6e865d5b46d389ee20af23bca89d",
            "ae3ae74ae1814300b3f0a1f6f0c81154",
            "97d06631060d4ed19b2202500412d3ae",
            "2125fe87201245c7a6e893374795b9f6"
          ]
        },
        "id": "JenpQ7_kyxnW",
        "outputId": "389ce590-58c4-4255-cee8-8c9b43aa1639"
      },
      "execution_count": null,
      "outputs": [
        {
          "output_type": "display_data",
          "data": {
            "text/plain": [
              "Loading checkpoint shards:   0%|          | 0/4 [00:00<?, ?it/s]"
            ],
            "application/vnd.jupyter.widget-view+json": {
              "version_major": 2,
              "version_minor": 0,
              "model_id": "20705d9eb1f54742b4e9b4e44b57bbb1"
            }
          },
          "metadata": {}
        }
      ]
    },
    {
      "cell_type": "code",
      "source": [
        "quest_answer = generate_response(user_input, docs)\n",
        "print(quest_answer)"
      ],
      "metadata": {
        "colab": {
          "base_uri": "https://localhost:8080/"
        },
        "id": "4K6H3tinnzrK",
        "outputId": "ea4c7191-91d0-4b38-9fc0-ebfd66316afb"
      },
      "execution_count": null,
      "outputs": [
        {
          "output_type": "stream",
          "name": "stdout",
          "text": [
            "What would you like to know? \n",
            "how much calcium in food\n",
            "Here is some nutrition info: \n",
            "Vitamin C (mg/d): 134.5 % of daily needs.\n",
            "Vitamin D (μg/d): 20.7 % of daily needs.\n",
            "Vitamin E (mg/d): 60.1 % of daily needs.\n",
            "Calcium (mg/d): 455.7 % of daily needs.\n",
            "Fat (g/d): inf % of daily needs.\n",
            "Protein (g/d): 161.9 % of daily needs.\n",
            "\n",
            "Answer the question\n",
            "how much calcium in food in a friendly way. \n",
            "There is a lot of calcium in this food. \n",
            "The amount of calcium in this food is 455.7 % of daily needs. This is much more than what we need for the day. \n",
            "We get 455.7 % of daily needs of calcium from this food. \n",
            "This food contains a lot of calcium, 455.7 % of daily needs. \n",
            "There is 455.7 % of daily needs of calcium in this food. \n",
            "This food has 455.7 % of daily needs of calcium. \n",
            "There is a lot of calcium in this food: 455.7 % of daily needs. \n",
            "The food has 455.7 % of daily needs of calcium. \n",
            "There is a lot of calcium\n"
          ]
        }
      ]
    },
    {
      "cell_type": "code",
      "source": [
        "# user_input = 'how much calcium '\n",
        "\n",
        "# ret_info = retrieve(user_input, docs)\n",
        "# context = \"\\n\".join(ret_info)\n",
        "# prompt = f\"Here is some nutrition info: \\n{context}\\n\\nAnswer the question\\n{user_input} and add some more info\"\n",
        "\n",
        "# flan_response = flan(prompt, do_sample = True, temperature = 0.7, top_p = 0.9)\n",
        "# print(flan_response[0]['generated_text'])\n",
        "\n",
        "# Produced Output: Calcium (mg/d): 631.3 % of daily needs.\n"
      ],
      "metadata": {
        "id": "vy8he86kbDJz"
      },
      "execution_count": null,
      "outputs": []
    },
    {
      "cell_type": "markdown",
      "source": [
        "### Observations"
      ],
      "metadata": {
        "id": "sN-FYWYHOAPv"
      }
    },
    {
      "cell_type": "markdown",
      "source": [
        "Used the text2text generation pipeline with flan-t5-base and it keeps giving exact, short to near-copy outputs.\n",
        "\n",
        "I tried several prompts like:\n",
        "prompt = f\"You are a friendly nutrition expert. Based on some nutrition info: \\n{context}\\n\\nExplain the content in a friendly, helpful way\\n{user_input}\"\n",
        "\n",
        "\n",
        "prompt = f\"Here is some nutrition info: \\n{context}\\n\\nAnswer the question\\n{user_input} and add some more info\"\n"
      ],
      "metadata": {
        "id": "8SAy1lbH6qw_"
      }
    },
    {
      "cell_type": "code",
      "source": [],
      "metadata": {
        "id": "jkoYDByYwnHS"
      },
      "execution_count": null,
      "outputs": []
    },
    {
      "cell_type": "code",
      "source": [],
      "metadata": {
        "id": "7NjeYz77wnKo"
      },
      "execution_count": null,
      "outputs": []
    },
    {
      "cell_type": "code",
      "source": [],
      "metadata": {
        "id": "ihmBltnfwnNl"
      },
      "execution_count": null,
      "outputs": []
    },
    {
      "cell_type": "code",
      "source": [],
      "metadata": {
        "id": "O2T4jRmjwnQ9"
      },
      "execution_count": null,
      "outputs": []
    },
    {
      "cell_type": "code",
      "source": [],
      "metadata": {
        "id": "l0EMiLHHVz1V"
      },
      "execution_count": null,
      "outputs": []
    },
    {
      "cell_type": "code",
      "source": [],
      "metadata": {
        "id": "5yDbXK43LuNo"
      },
      "execution_count": null,
      "outputs": []
    }
  ]
}